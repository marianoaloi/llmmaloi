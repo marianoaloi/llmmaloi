{
 "cells": [
  {
   "cell_type": "markdown",
   "metadata": {},
   "source": [
    "##The Loop into person destination folder get your messages and concat in a CSV File"
   ]
  },
  {
   "cell_type": "code",
   "execution_count": 53,
   "metadata": {},
   "outputs": [],
   "source": [
    "facebook_msg_folder=\"/mnt/BACKUP/dev/facebook-marianoaloi/your_activity_across_facebook/messages/\"\n",
    "\n",
    "import os\n",
    "import json\n",
    "import csv\n",
    "\n",
    "def transform(msg:dict,file:str)-> dict:\n",
    "    msg[\"file\"]=file\n",
    "    if(\"content\" in msg):\n",
    "        msg[\"content\"]=msg[\"content\"].replace(\"\\n\",\" \").encode(\"utf8\")\n",
    "    if(\"sender_name\" in msg):\n",
    "        msg[\"sender_name\"]=msg[\"sender_name\"].replace(\"\\n\",\" \").encode(\"utf8\")\n",
    "        \n",
    "    return msg\n",
    "\n",
    "with open(os.path.join(facebook_msg_folder,\"messages.csv\"),'w',encoding=\"utf8\") as csvFile:\n",
    "    csvSave = None;\n",
    "    for root,folders,files in os.walk(facebook_msg_folder):\n",
    "        folder=root.replace(facebook_msg_folder,\"\")\n",
    "        for file in [file for file in files if \"json\" in file]:\n",
    "            with open(os.path.join(root,file)) as user_file:\n",
    "                parsed_json = json.load(user_file)\n",
    "                if(\"messages\" not in parsed_json):\n",
    "                    continue\n",
    "                parsed_json = parsed_json[\"messages\"]\n",
    "                parsed_json = [transform(msg,folder) for msg in parsed_json]\n",
    "                if(not csvSave):\n",
    "                    csvSave = csv.DictWriter(csvFile, fieldnames=\"file,sender_name,timestamp_ms,content,sticker,is_geoblocked_for_viewer,audio_files,share,ip,photos,reactions,call_duration,videos,missed,gifs,is_unsent\".split(\",\"))\n",
    "                    csvSave.writeheader()\n",
    "                csvSave.writerows(parsed_json)"
   ]
  }
 ],
 "metadata": {
  "kernelspec": {
   "display_name": ".venv",
   "language": "python",
   "name": "python3"
  },
  "language_info": {
   "codemirror_mode": {
    "name": "ipython",
    "version": 3
   },
   "file_extension": ".py",
   "mimetype": "text/x-python",
   "name": "python",
   "nbconvert_exporter": "python",
   "pygments_lexer": "ipython3",
   "version": "3.10.12"
  }
 },
 "nbformat": 4,
 "nbformat_minor": 2
}
