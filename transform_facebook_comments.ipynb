{
 "cells": [
  {
   "cell_type": "code",
   "execution_count": null,
   "metadata": {},
   "outputs": [],
   "source": [
    "import os\n",
    "import json\n",
    "import csv\n",
    "\n",
    "import re\n",
    "\n",
    "import  ftfy\n",
    "\n",
    "from findJsonKeys import FindJsonKey \n",
    "from populateFlatByJson import populate ,cleanText\n"
   ]
  },
  {
   "cell_type": "markdown",
   "metadata": {},
   "source": [
    "# transform comment file"
   ]
  },
  {
   "cell_type": "code",
   "execution_count": 13,
   "metadata": {},
   "outputs": [],
   "source": [
    "facebook_comment_dir=os.environ[\"FACE_DATA\"]+\"your_activity_across_facebook/comments_and_reactions/\"\n",
    "\n",
    "\n",
    "\n",
    "findKeys=FindJsonKey()\n",
    "def transform(msg:dict,d:dict)-> dict:\n",
    "    result={}\n",
    "    result[\"title\"]=cleanText(msg[\"title\"])\n",
    "\n",
    "\n",
    "    populate(d)\n",
    "\n",
    "    result[\"timestamp\"] = msg[\"timestamp\"]\n",
    "    return result\n",
    "\n",
    "all_data=[]    \n",
    "for root,folders,files in os.walk(facebook_comment_dir):\n",
    "    folder=root.replace(facebook_comment_dir,\"\")\n",
    "    for file in [file for file in files if \"comments\" in file]:\n",
    "        with open(os.path.join(root,file), 'r') as user_file:\n",
    "            parsed_json = json.load(user_file)\n",
    "\n",
    "            parsed_json = parsed_json[\"comments_v2\"]\n",
    "            attachments = [transform(msg,d) for msg in parsed_json if \"attachments\" in msg for a in msg[\"attachments\"] for d in a['data']]\n",
    "            comments =  [transform(msg,d[\"comment\"]) for msg in parsed_json if \"data\" in msg for d in msg[\"data\"]]\n",
    "            \n",
    "            all_data += (attachments)\n",
    "            all_data += (comments)\n",
    "                \n",
    "\n",
    "print(findKeys.keys())      \n",
    "\n",
    "with open(os.path.join(os.path.dirname(facebook_comment_dir),\"comment.json\"), 'w', newline='', encoding='utf-8') as jsonFile:                \n",
    "    \n",
    "    parsed_json = [item for item in all_data]\n",
    "    json.dump(parsed_json,jsonFile,indent=2)             "
   ]
  },
  {
   "cell_type": "markdown",
   "metadata": {},
   "source": [
    "# Transform Like File\n",
    "Read all like files and stract the reaction person date. But I liket to extract more data soo with Regex I spit the action and the person."
   ]
  },
  {
   "cell_type": "code",
   "execution_count": null,
   "metadata": {},
   "outputs": [],
   "source": [
    "\n",
    "\n",
    "all_data=[]    \n",
    "findKeys=FindJsonKey()\n",
    "def transform(msg,data):\n",
    "    \n",
    "    result =  {\n",
    "        \"title\":ftfy.fix_text(msg[\"title\"]),\n",
    "        'reaction':data[\"reaction\"][\"reaction\"],\n",
    "        'timestamp':msg['timestamp']     \n",
    "    }\n",
    "\n",
    "    itens=re.findall(\"^Mariano Aloi ([^']+)'*s* (.*).$\",cleanText(msg[\"title\"]))\n",
    "    if len(itens) > 0 :\n",
    "        itens=itens[0]\n",
    "        result[\"typeItem\"]=itens[1]  \n",
    "        \n",
    "        result[\"person\"]=itens[0].replace( \\\n",
    "            \"liked \" if re.match(\"^liked .*\",itens[0]) \\\n",
    "                else \\\n",
    "            \"reacted to \" if re.match(\"^reacted to .*\",itens[0]) \\\n",
    "                else \"\",\"\");\n",
    "                             \n",
    "    return result;\n",
    "\n",
    "for root,folders,files in os.walk(facebook_comment_dir):\n",
    "    folder=root.replace(facebook_comment_dir,\"\")\n",
    "    for file in [file for file in files if \"likes_and_reactions\" in file]:\n",
    "        with open(os.path.join(root,file), 'r') as user_file:\n",
    "            parsed_json = json.load(user_file)\n",
    "            # findKeys.makeDecision(parsed_json)\n",
    "            parsed_json = parsed_json = [transform(msg,data) for msg in parsed_json for data in msg[\"data\"]]\n",
    "            all_data += (parsed_json)\n",
    "print(findKeys.keys())\n",
    "\n",
    "\n",
    "with open(os.path.join(os.path.dirname(facebook_comment_dir),\"comment.json\"), 'w', newline='', encoding='utf-8') as jsonFile:                \n",
    "    \n",
    "    parsed_json = [item for item in all_data]\n",
    "    json.dump(parsed_json,jsonFile,indent=2)  "
   ]
  }
 ],
 "metadata": {
  "kernelspec": {
   "display_name": ".venv",
   "language": "python",
   "name": "python3"
  },
  "language_info": {
   "codemirror_mode": {
    "name": "ipython",
    "version": 3
   },
   "file_extension": ".py",
   "mimetype": "text/x-python",
   "name": "python",
   "nbconvert_exporter": "python",
   "pygments_lexer": "ipython3",
   "version": "3.10.12"
  }
 },
 "nbformat": 4,
 "nbformat_minor": 2
}
