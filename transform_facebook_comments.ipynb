{
 "cells": [
  {
   "cell_type": "code",
   "execution_count": null,
   "metadata": {},
   "outputs": [],
   "source": [
    "import os\n",
    "import json\n",
    "import csv\n",
    "\n",
    "import re\n",
    "\n",
    "import  ftfy\n",
    "\n",
    "from findJsonKeys import FindJsonKey \n",
    "from populateFlatByJson import populate \n"
   ]
  },
  {
   "cell_type": "markdown",
   "metadata": {},
   "source": [
    "# transform comment file"
   ]
  },
  {
   "cell_type": "code",
   "execution_count": 13,
   "metadata": {},
   "outputs": [],
   "source": [
    "facebook_comment_dir=os.environ(\"FACE_DATA\")+\"your_activity_across_facebook/comments_and_reactions/\"\n",
    "\n",
    "\n",
    "\n",
    "findKeys=FindJsonKey()\n",
    "def transform(msg:dict,d:dict)-> dict:\n",
    "    result={}\n",
    "    result[\"title\"]=ftfy.fix_text(msg[\"title\"].replace(\"\\n\",\" \"))\n",
    "\n",
    "\n",
    "    populate(d)\n",
    "\n",
    "    result[\"timestamp\"] = msg[\"timestamp\"]\n",
    "    return result\n",
    "\n",
    "with open(os.path.join(os.path.dirname(facebook_comment_dir),\"comment.csv\"), 'w', newline='', encoding='utf-8') as csvFile:\n",
    "    csvSave = csv.DictWriter(csvFile, fieldnames=\"title,author,timestamp,comment,media,external_context\".split(\",\"))\n",
    "    csvSave.writeheader()\n",
    "    \n",
    "    for root,folders,files in os.walk(facebook_comment_dir):\n",
    "        folder=root.replace(facebook_comment_dir,\"\")\n",
    "        for file in [file for file in files if \"comments\" in file]:\n",
    "            with open(os.path.join(root,file), 'r') as user_file:\n",
    "                parsed_json = json.load(user_file)\n",
    "\n",
    "                parsed_json = parsed_json[\"comments_v2\"]\n",
    "                attachments = [transform(msg,d) for msg in parsed_json if \"attachments\" in msg for a in msg[\"attachments\"] for d in a['data']]\n",
    "                comments =  [transform(msg,d[\"comment\"]) for msg in parsed_json if \"data\" in msg for d in msg[\"data\"]]\n",
    "                \n",
    "                csvSave.writerows(attachments)\n",
    "                csvSave.writerows(comments)\n",
    "                \n",
    "\n",
    "print(findKeys.keys())                "
   ]
  },
  {
   "cell_type": "markdown",
   "metadata": {},
   "source": [
    "# Transform Like File\n",
    "Read all like files and stract the reaction person date"
   ]
  },
  {
   "cell_type": "code",
   "execution_count": null,
   "metadata": {},
   "outputs": [],
   "source": [
    "\n",
    "\n",
    "findKeys=FindJsonKey()\n",
    "def transform(msg,data):\n",
    "    \n",
    "    result =  {\n",
    "        \"title\":ftfy.fix_text(msg[\"title\"]),\n",
    "        'reaction':data[\"reaction\"][\"reaction\"],\n",
    "        'timestamp':msg['timestamp']     \n",
    "    }\n",
    "\n",
    "    itens=re.findall(\"^Mariano Aloi ([^']+)'*s* (.*).$\",ftfy.fix_text(msg[\"title\"]))\n",
    "    if len(itens) > 0 :\n",
    "        itens=itens[0]\n",
    "        result[\"typeItem\"]=itens[1]  \n",
    "        \n",
    "        result[\"person\"]=itens[0].replace( \\\n",
    "            \"liked \" if re.match(\"^liked .*\",itens[0]) \\\n",
    "                else \\\n",
    "            \"reacted to \" if re.match(\"^reacted to .*\",itens[0]) \\\n",
    "                else \"\",\"\");\n",
    "                             \n",
    "    return result;\n",
    "with open(os.path.join(os.path.dirname(facebook_comment_dir),\"likes.csv\"), 'w', newline='', encoding='utf-8') as csvFile:\n",
    "    csvSave = csv.DictWriter(csvFile, fieldnames=\"title,timestamp,reaction,typeItem,person\".split(\",\"))\n",
    "    csvSave.writeheader()\n",
    "    for root,folders,files in os.walk(facebook_comment_dir):\n",
    "        folder=root.replace(facebook_comment_dir,\"\")\n",
    "        for file in [file for file in files if \"likes_and_reactions\" in file]:\n",
    "            with open(os.path.join(root,file), 'r') as user_file:\n",
    "                parsed_json = json.load(user_file)\n",
    "                # findKeys.makeDecision(parsed_json)\n",
    "                parsed_json = parsed_json = [transform(msg,data) for msg in parsed_json for data in msg[\"data\"]]\n",
    "                csvSave.writerows(parsed_json)\n",
    "print(findKeys.keys())"
   ]
  }
 ],
 "metadata": {
  "kernelspec": {
   "display_name": ".venv",
   "language": "python",
   "name": "python3"
  },
  "language_info": {
   "codemirror_mode": {
    "name": "ipython",
    "version": 3
   },
   "file_extension": ".py",
   "mimetype": "text/x-python",
   "name": "python",
   "nbconvert_exporter": "python",
   "pygments_lexer": "ipython3",
   "version": "3.10.12"
  }
 },
 "nbformat": 4,
 "nbformat_minor": 2
}
