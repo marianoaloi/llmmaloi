{
 "cells": [
  {
   "cell_type": "code",
   "execution_count": null,
   "metadata": {},
   "outputs": [],
   "source": [
    "import csv\n",
    "import os\n",
    "import re\n",
    "import pymongo\n",
    "import urllib.parse   \n",
    "import string\n",
    "\n",
    "myclient = pymongo.MongoClient(os.environ[\"MONGO_STRING\"])[\"extractData\"]"
   ]
  },
  {
   "cell_type": "code",
   "execution_count": null,
   "metadata": {},
   "outputs": [],
   "source": [
    "brazilian_letters=string.ascii_letters+string.punctuation+\"0123456789ãâáàẽêéèĩîíìõôóòũûúùçÃÂÁÀẼÊÉÈĨÎÍÌÕÔÓÒŨÛÚÙÇ\"\n",
    "\n",
    "def commonReplace(all_data):\n",
    "    \n",
    "    all_data=[re.sub(\"[^ \"+brazilian_letters+\"]+\",\"\",x) for x in all_data]\n",
    "    \n",
    "    all_data=[re.sub(\"http[^ ]+\",\"\", x) for x in all_data]\n",
    "    all_data=[re.sub(\"^RT[^:]+:\",\"\", x) for x in all_data]\n",
    "    all_data=[x.strip()+'\\n' for x in all_data if len(x) > 1]\n",
    "    \n",
    "    return set(all_data)"
   ]
  },
  {
   "cell_type": "code",
   "execution_count": null,
   "metadata": {},
   "outputs": [],
   "source": [
    "def twitterText():\n",
    "    \n",
    "    result = myclient['twitter'].aggregate([\n",
    "        {\n",
    "            '$match': {\n",
    "                'users': {\n",
    "                    '$size': 0\n",
    "                }, \n",
    "                'full_text': {\n",
    "                    '$not': {\n",
    "                        '$regex': re.compile(r\"Just posted a photo\")\n",
    "                    }\n",
    "                }\n",
    "            }\n",
    "        }, {\n",
    "            '$sort': {\n",
    "                'timestamp': -1\n",
    "            }\n",
    "        }, {\n",
    "            '$project': {\n",
    "                'full_text': 1, \n",
    "                '_id': 0\n",
    "            }\n",
    "        }\n",
    "    ])\n",
    "    all_data=[x['full_text'] for x in result]\n",
    "    return commonReplace(all_data)"
   ]
  },
  {
   "cell_type": "code",
   "execution_count": null,
   "metadata": {},
   "outputs": [],
   "source": [
    "def instagramText():\n",
    "    result = myclient['instagram'].aggregate([\n",
    "        {\n",
    "            '$match': {\n",
    "                'text': {\n",
    "                    '$exists': True\n",
    "                },\n",
    "  \n",
    "                'sender_name':\"Mariano Aloi\"\n",
    "            }\n",
    "        }, {\n",
    "            '$sort': {\n",
    "                'timestamp': -1\n",
    "            }\n",
    "        }, {\n",
    "            '$project': {\n",
    "                'text': 1, \n",
    "                '_id': 0\n",
    "            }\n",
    "        }\n",
    "    ])\n",
    "    all_data=[x['text'] for x in result]\n",
    "    all_data=[x for x in all_data if not (re.match(\"^Curtiu um\",x) or re.match(\"^Reagiu com\",x) or re.match(\"attachment.$\",x) )]\n",
    "    return commonReplace(all_data)"
   ]
  },
  {
   "cell_type": "code",
   "execution_count": null,
   "metadata": {},
   "outputs": [],
   "source": [
    "def facebookText():\n",
    "    result = myclient['facebook'].aggregate([\n",
    "        {\n",
    "            '$match': {\n",
    "                'description': {\n",
    "                    '$exists': True\n",
    "                },\n",
    "  \n",
    "                'sender_name':\"Mariano Aloi\"\n",
    "            }\n",
    "        }, {\n",
    "            '$sort': {\n",
    "                'timestamp': -1\n",
    "            }\n",
    "        }, {\n",
    "            '$project': {\n",
    "                '_id': 0, \n",
    "                'description': 1\n",
    "            }\n",
    "        }\n",
    "    ])\n",
    "    all_data=[x['description'] for x in result]\n",
    "    return commonReplace(all_data)"
   ]
  },
  {
   "cell_type": "code",
   "execution_count": null,
   "metadata": {},
   "outputs": [],
   "source": [
    "def gmailText   ():\n",
    "    result = myclient['gmail'].aggregate([\n",
    "            {\n",
    "                '$unwind': {\n",
    "                    'path': '$text'\n",
    "                }\n",
    "            }, {\n",
    "                '$match': {\n",
    "                    'text.content_type': 'text/plain'\n",
    "                }\n",
    "            }, {\n",
    "                '$project': {\n",
    "                    '_id': 0, \n",
    "                    'text': '$text.msg_text'\n",
    "                }\n",
    "            }\n",
    "        ])\n",
    "    all_data=[x['text'] for x in result]\n",
    "    all_data=[re.sub(\"=(A-Z0-9{2})\",\"%\\g<1>\",text) for text in all_data]\n",
    "    all_data=[text.replace(\"=\\n\",\" \") for text in all_data]\n",
    "    all_data=[urllib.parse.unquote(text) for text in all_data]\n",
    "    return commonReplace(all_data)"
   ]
  },
  {
   "cell_type": "code",
   "execution_count": null,
   "metadata": {},
   "outputs": [],
   "source": [
    "with open(os.path.join(os.environ[\"GOOGLE_DRIVE\"],\"COLAB\",\"msg.csv\"), 'w',  encoding='utf-8') as csvFile:   \n",
    "    \n",
    "\n",
    "    csvFile.writelines( twitterText())\n",
    "    csvFile.writelines( instagramText())\n",
    "    csvFile.writelines( facebookText())\n",
    "    # csvFile.writelines( gmailText()) # I tried but the text is very polluted with reply into the message"
   ]
  }
 ],
 "metadata": {
  "kernelspec": {
   "display_name": "venv",
   "language": "python",
   "name": "python3"
  },
  "language_info": {
   "name": "python",
   "version": "3.11.0"
  }
 },
 "nbformat": 4,
 "nbformat_minor": 2
}
