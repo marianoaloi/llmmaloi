{
 "cells": [
  {
   "cell_type": "code",
   "execution_count": 1,
   "metadata": {},
   "outputs": [],
   "source": [
    "import os\n",
    "import json\n",
    "import csv\n",
    "\n",
    "import re\n",
    "\n",
    "import  ftfy\n",
    "\n",
    "from findJsonKeys import FindJsonKey \n",
    "from populateFlatByJson import cleanText \n"
   ]
  },
  {
   "cell_type": "markdown",
   "metadata": {},
   "source": [
    "# transform post file\n",
    "Extract the data from the facebook posts files, flat the information to the dict , join all data in a list"
   ]
  },
  {
   "cell_type": "code",
   "execution_count": 2,
   "metadata": {},
   "outputs": [
    {
     "name": "stdout",
     "output_type": "stream",
     "text": [
      "\n"
     ]
    }
   ],
   "source": [
    "facebook_posts_dir=os.getenv(\"FACE_DATA\")+\"your_activity_across_facebook/posts/\"\n",
    "findKeys=FindJsonKey()\n",
    "def transform(msgPost:dict)-> dict:\n",
    "    result={\"timestamp\":msgPost[\"timestamp\"]}\n",
    "    if(\"title\" in msgPost):\n",
    "        result[\"title\"]=cleanText(msgPost[\"title\"])\n",
    "    if(\"attachments\" in msgPost):\n",
    "        for atc in msgPost[\"attachments\"]:\n",
    "            for data in atc[\"data\"]:\n",
    "                # findKeys.makeDecision(data)\n",
    "                if \"event\" in data:\n",
    "                    pass\n",
    "                if \"external_context\" in data:\n",
    "                    pass\n",
    "                if \"for_sale_item\" in data:\n",
    "                    pass\n",
    "                if \"life_event\" in data:\n",
    "                    pass\n",
    "                if \"media\" in data:\n",
    "                    result[\"creation_timestamp\"]=data[\"media\"][\"creation_timestamp\"]\n",
    "                    result[\"mediauri\"]=data[\"media\"][\"uri\"]\n",
    "                    if(\"description\" in data[\"media\"] ):\n",
    "                        result[\"description\"]=cleanText(data[\"media\"][\"description\"])\n",
    "                    if(\"title\" in data[\"media\"] ):\n",
    "                        result[\"mediatitle\"]=cleanText(data[\"media\"][\"title\"])\n",
    "                if \"name\" in data:\n",
    "                    result[\"name\"]=cleanText(data[\"name\"])\n",
    "                if \"place\" in data:\n",
    "                    result[\"address\"]=cleanText(data[\"place\"][\"address\"])\n",
    "                    result[\"name\"]=cleanText(data[\"place\"][\"name\"])\n",
    "                    result[\"latitude\"]=data[\"place\"][\"coordinate\"][\"latitude\"]\n",
    "                    result[\"longitude\"]=data[\"place\"][\"coordinate\"][\"longitude\"]\n",
    "                if \"text\" in data:\n",
    "                    result[\"text\"]=cleanText(data[\"text\"])\n",
    "    if(\"data\" in msgPost):\n",
    "        for data in msgPost[\"data\"]:\n",
    "                if \"post\" in data:\n",
    "                    result[\"text\"]=cleanText(data[\"post\"])\n",
    "    if(\"tags\" in msgPost):\n",
    "        for tag in msgPost[\"tags\"]:\n",
    "                    result[\"text\"]=cleanText(tag[\"name\"])\n",
    " \n",
    "                \n",
    "    return result\n",
    "all_data=[]\n",
    "for root,folders,files in os.walk(facebook_posts_dir):\n",
    "    folder=root.replace(facebook_posts_dir,\"\")\n",
    "    for file in [file for file in files if \"your_posts\" in file]:\n",
    "        with open(os.path.join(root,file), 'r') as user_file:\n",
    "            parsed_json = json.load(user_file)\n",
    "            # findKeys.makeDecision(parsed_json)\n",
    "            parsed_json = [transform(msg) for msg in parsed_json ]\n",
    "            all_data += parsed_json\n",
    "\n",
    "print(findKeys.keys())               "
   ]
  },
  {
   "cell_type": "markdown",
   "metadata": {},
   "source": [
    "## After split the data to important files\n",
    "\n",
    "with all data now need slipt the important data. I choice media , text and the post with cordinates. The same information can be into the files but I garate the file has no empty about your main data. "
   ]
  },
  {
   "cell_type": "code",
   "execution_count": 3,
   "metadata": {},
   "outputs": [],
   "source": [
    "with open(os.path.join(os.path.dirname(facebook_posts_dir),\"posts.json\"), 'w', newline='', encoding='utf-8') as jsonFile:                \n",
    "    \n",
    "    parsed_json = [item for item in all_data]\n",
    "    json.dump(parsed_json,jsonFile,indent=2)         \n",
    "    \n",
    "\n",
    "with open(os.path.join(os.path.dirname(facebook_posts_dir),\"postText.json\"), 'w', newline='', encoding='utf-8') as jsonFile:                \n",
    "    \n",
    "    parsed_json = [item for item in all_data if \"text\" in item]\n",
    "    json.dump(parsed_json,jsonFile,indent=2)      \n",
    "    \n",
    "with open(os.path.join(os.path.dirname(facebook_posts_dir),\"postCoordinates.json\"), 'w', newline='', encoding='utf-8') as jsonFile:                \n",
    "    \n",
    "    parsed_json = [item for item in all_data if \"latitude\" in item]\n",
    "    json.dump(parsed_json,jsonFile,indent=2) \n",
    "    \n",
    "    \n",
    "with open(os.path.join(os.path.dirname(facebook_posts_dir),\"postMedia.json\"), 'w', newline='', encoding='utf-8') as jsonFile:                \n",
    "    \n",
    "    parsed_json = [item for item in all_data if \"mediauri\" in item]\n",
    "    json.dump(parsed_json,jsonFile,indent=2) "
   ]
  }
 ],
 "metadata": {
  "kernelspec": {
   "display_name": ".venv",
   "language": "python",
   "name": "python3"
  },
  "language_info": {
   "codemirror_mode": {
    "name": "ipython",
    "version": 3
   },
   "file_extension": ".py",
   "mimetype": "text/x-python",
   "name": "python",
   "nbconvert_exporter": "python",
   "pygments_lexer": "ipython3",
   "version": "3.10.12"
  }
 },
 "nbformat": 4,
 "nbformat_minor": 2
}
