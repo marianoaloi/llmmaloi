{
 "cells": [
  {
   "cell_type": "markdown",
   "metadata": {},
   "source": [
    "# Read Messages texted\n",
    "The Loop into person destination folder get your messages and concat in a CSV File"
   ]
  },
  {
   "cell_type": "code",
   "execution_count": 5,
   "metadata": {},
   "outputs": [
    {
     "name": "stdout",
     "output_type": "stream",
     "text": [
      "image\"]\n",
      "image\"][\"creation_timestamp\"]\n",
      "image\"][\"uri\"]\n",
      "is_pending\"]\n",
      "is_still_participant\"]\n",
      "joinable_mode\"]\n",
      "joinable_mode\"][\"link\"]\n",
      "joinable_mode\"][\"mode\"]\n",
      "magic_words\"]\n",
      "messages\"]\n",
      "messages\"][\"$L$\"][\"audio_files\"]\n",
      "messages\"][\"$L$\"][\"audio_files\"][\"$L$\"][\"creation_timestamp\"]\n",
      "messages\"][\"$L$\"][\"audio_files\"][\"$L$\"][\"uri\"]\n",
      "messages\"][\"$L$\"][\"call_duration\"]\n",
      "messages\"][\"$L$\"][\"content\"]\n",
      "messages\"][\"$L$\"][\"gifs\"]\n",
      "messages\"][\"$L$\"][\"gifs\"][\"$L$\"][\"uri\"]\n",
      "messages\"][\"$L$\"][\"ip\"]\n",
      "messages\"][\"$L$\"][\"is_geoblocked_for_viewer\"]\n",
      "messages\"][\"$L$\"][\"is_unsent\"]\n",
      "messages\"][\"$L$\"][\"missed\"]\n",
      "messages\"][\"$L$\"][\"photos\"]\n",
      "messages\"][\"$L$\"][\"photos\"][\"$L$\"][\"creation_timestamp\"]\n",
      "messages\"][\"$L$\"][\"photos\"][\"$L$\"][\"uri\"]\n",
      "messages\"][\"$L$\"][\"reactions\"]\n",
      "messages\"][\"$L$\"][\"reactions\"][\"$L$\"][\"actor\"]\n",
      "messages\"][\"$L$\"][\"reactions\"][\"$L$\"][\"reaction\"]\n",
      "messages\"][\"$L$\"][\"sender_name\"]\n",
      "messages\"][\"$L$\"][\"share\"]\n",
      "messages\"][\"$L$\"][\"share\"][\"link\"]\n",
      "messages\"][\"$L$\"][\"share\"][\"original_content_owner\"]\n",
      "messages\"][\"$L$\"][\"share\"][\"share_text\"]\n",
      "messages\"][\"$L$\"][\"sticker\"]\n",
      "messages\"][\"$L$\"][\"sticker\"][\"ai_stickers\"]\n",
      "messages\"][\"$L$\"][\"sticker\"][\"uri\"]\n",
      "messages\"][\"$L$\"][\"timestamp_ms\"]\n",
      "messages\"][\"$L$\"][\"videos\"]\n",
      "messages\"][\"$L$\"][\"videos\"][\"$L$\"][\"creation_timestamp\"]\n",
      "messages\"][\"$L$\"][\"videos\"][\"$L$\"][\"uri\"]\n",
      "participants\"]\n",
      "participants\"][\"$L$\"][\"name\"]\n",
      "thread_path\"]\n",
      "title\"]\n"
     ]
    }
   ],
   "source": [
    "\n",
    "import os\n",
    "import json\n",
    "import csv\n",
    "\n",
    "import  ftfy\n",
    "from findJsonKeys import FindJsonKey\n",
    "\n",
    "from populateFlatByJson import cleanText \n",
    "\n",
    "facebook_msg_folder=os.environ[\"FACE_DATA\"]+\"your_activity_across_facebook/messages/\"\n",
    "\n",
    "def transform(msg:dict,file:str)-> dict:\n",
    "    msg[\"file\"]=file\n",
    "    if(\"content\" in msg):\n",
    "        msg[\"text\"]=cleanText(msg[\"content\"])\n",
    "    if(\"sender_name\" in msg):\n",
    "        msg[\"sender_name\"]=cleanText(msg[\"sender_name\"])\n",
    "        \n",
    "    return msg\n",
    "\n",
    "findKeys=FindJsonKey()\n",
    "\n",
    "all_data=[]\n",
    "\n",
    "for root,folders,files in os.walk(facebook_msg_folder):\n",
    "    folder=root.replace(facebook_msg_folder,\"\")\n",
    "    for file in [file for file in files if \"message\" in file]:\n",
    "        with open(os.path.join(root,file)) as user_file:\n",
    "            parsed_json = json.load(user_file)\n",
    "            if(\"messages\" not in parsed_json):\n",
    "                continue\n",
    "            findKeys.makeDecision(parsed_json)\n",
    "            parsed_json = parsed_json[\"messages\"]\n",
    "            parsed_json = [transform(msg,folder) for msg in parsed_json]\n",
    "            \n",
    "            all_data += (parsed_json)\n",
    "\n",
    "print(findKeys.keys())   \n",
    "\n",
    "with open(os.path.join(os.path.dirname(facebook_msg_folder),\"msg.json\"), 'w', newline='', encoding='utf-8') as jsonFile:                \n",
    "    \n",
    "    parsed_json = [item for item in all_data]\n",
    "    json.dump(parsed_json,jsonFile,indent=2)    "
   ]
  }
 ],
 "metadata": {
  "kernelspec": {
   "display_name": ".venv",
   "language": "python",
   "name": "python3"
  },
  "language_info": {
   "codemirror_mode": {
    "name": "ipython",
    "version": 3
   },
   "file_extension": ".py",
   "mimetype": "text/x-python",
   "name": "python",
   "nbconvert_exporter": "python",
   "pygments_lexer": "ipython3",
   "version": "3.10.12"
  }
 },
 "nbformat": 4,
 "nbformat_minor": 2
}
